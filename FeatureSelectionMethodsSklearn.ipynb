{
 "cells": [
  {
   "cell_type": "code",
   "execution_count": 1,
   "id": "210e88be",
   "metadata": {
    "_cell_guid": "b1076dfc-b9ad-4769-8c92-a6c4dae69d19",
    "_uuid": "8f2839f25d086af736a60e9eeb907d3b93b6e0e5",
    "execution": {
     "iopub.execute_input": "2022-07-18T14:06:02.904484Z",
     "iopub.status.busy": "2022-07-18T14:06:02.904083Z",
     "iopub.status.idle": "2022-07-18T14:06:02.927157Z",
     "shell.execute_reply": "2022-07-18T14:06:02.925222Z"
    },
    "papermill": {
     "duration": 0.039972,
     "end_time": "2022-07-18T14:06:02.929813",
     "exception": false,
     "start_time": "2022-07-18T14:06:02.889841",
     "status": "completed"
    },
    "tags": []
   },
   "outputs": [
    {
     "name": "stdout",
     "output_type": "stream",
     "text": [
      "/kaggle/input/santander-customer-transaction-prediction-dataset/train.csv\n",
      "/kaggle/input/santander-customer-transaction-prediction-dataset/test.csv\n"
     ]
    }
   ],
   "source": [
    "# This Python 3 environment comes with many helpful analytics libraries installed\n",
    "# It is defined by the kaggle/python Docker image: https://github.com/kaggle/docker-python\n",
    "# For example, here's several helpful packages to load\n",
    "\n",
    "import numpy as np # linear algebra\n",
    "import pandas as pd # data processing, CSV file I/O (e.g. pd.read_csv)\n",
    "\n",
    "# Input data files are available in the read-only \"../input/\" directory\n",
    "# For example, running this (by clicking run or pressing Shift+Enter) will list all files under the input directory\n",
    "\n",
    "import os\n",
    "for dirname, _, filenames in os.walk('/kaggle/input'):\n",
    "    for filename in filenames:\n",
    "        print(os.path.join(dirname, filename))\n",
    "\n",
    "# You can write up to 20GB to the current directory (/kaggle/working/) that gets preserved as output when you create a version using \"Save & Run All\" \n",
    "# You can also write temporary files to /kaggle/temp/, but they won't be saved outside of the current session"
   ]
  },
  {
   "cell_type": "markdown",
   "id": "1bfa7d46",
   "metadata": {
    "papermill": {
     "duration": 0.009567,
     "end_time": "2022-07-18T14:06:02.949974",
     "exception": false,
     "start_time": "2022-07-18T14:06:02.940407",
     "status": "completed"
    },
    "tags": []
   },
   "source": [
    "### 1. Variance Threshold"
   ]
  },
  {
   "cell_type": "markdown",
   "id": "f989d8fe",
   "metadata": {
    "papermill": {
     "duration": 0.009686,
     "end_time": "2022-07-18T14:06:02.969282",
     "exception": false,
     "start_time": "2022-07-18T14:06:02.959596",
     "status": "completed"
    },
    "tags": []
   },
   "source": [
    "Variance threshold from sklearn is a simple baseline approach to feature selection. It removes all features which variance doesn’t meet some threshold. By default, it removes all zero-variance features, i.e., features that have the same value in all samples.\n",
    "The Variance Threshold feature selection only sees the input features (X) without considering any information from the dependent variable (y)."
   ]
  },
  {
   "cell_type": "code",
   "execution_count": 2,
   "id": "3c9ff8a0",
   "metadata": {
    "execution": {
     "iopub.execute_input": "2022-07-18T14:06:02.990412Z",
     "iopub.status.busy": "2022-07-18T14:06:02.990159Z",
     "iopub.status.idle": "2022-07-18T14:06:21.486215Z",
     "shell.execute_reply": "2022-07-18T14:06:21.485212Z"
    },
    "papermill": {
     "duration": 18.509908,
     "end_time": "2022-07-18T14:06:21.489528",
     "exception": false,
     "start_time": "2022-07-18T14:06:02.979620",
     "status": "completed"
    },
    "tags": []
   },
   "outputs": [
    {
     "name": "stdout",
     "output_type": "stream",
     "text": [
      "(200000, 200)\n",
      "(200000, 200)\n"
     ]
    }
   ],
   "source": [
    "train= pd.read_csv(\"../input/santander-customer-transaction-prediction-dataset/train.csv\")\n",
    "test= pd.read_csv(\"../input/santander-customer-transaction-prediction-dataset/test.csv\")\n",
    "\n",
    "#Remove Target column before performing Feature Selection with Variance Threshold Method\n",
    "X_train= train.drop(labels=[\"ID_code\",'target'], axis=1)\n",
    "X_test= test.drop(labels=[\"ID_code\"], axis=1)\n",
    "\n",
    "y_train= train[[\"target\"]]\n",
    "\n",
    "print(X_train.shape)\n",
    "print(X_test.shape)"
   ]
  },
  {
   "cell_type": "code",
   "execution_count": 3,
   "id": "cde1c71c",
   "metadata": {
    "execution": {
     "iopub.execute_input": "2022-07-18T14:06:21.516105Z",
     "iopub.status.busy": "2022-07-18T14:06:21.515723Z",
     "iopub.status.idle": "2022-07-18T14:06:22.741699Z",
     "shell.execute_reply": "2022-07-18T14:06:22.740718Z"
    },
    "papermill": {
     "duration": 1.242693,
     "end_time": "2022-07-18T14:06:22.743880",
     "exception": false,
     "start_time": "2022-07-18T14:06:21.501187",
     "status": "completed"
    },
    "tags": []
   },
   "outputs": [
    {
     "data": {
      "text/plain": [
       "190"
      ]
     },
     "execution_count": 3,
     "metadata": {},
     "output_type": "execute_result"
    }
   ],
   "source": [
    "from sklearn.feature_selection import VarianceThreshold\n",
    "#Removing both constant and quasi-constant\n",
    "vt = VarianceThreshold(threshold=0.1)\n",
    "vt.fit(X_train)  # fit finds the features with zero variance\n",
    "\n",
    "# get_support is a boolean vector that indicates which features are retained\n",
    "# Finding non-constant features\n",
    "len(X_train.columns[vt.get_support()])"
   ]
  },
  {
   "cell_type": "markdown",
   "id": "f4b3d8bd",
   "metadata": {
    "papermill": {
     "duration": 0.009918,
     "end_time": "2022-07-18T14:06:22.764078",
     "exception": false,
     "start_time": "2022-07-18T14:06:22.754160",
     "status": "completed"
    },
    "tags": []
   },
   "source": [
    "Be careful while selecting the threshold. For example, if we are working with Cancer dataset and our target variable has distribution 90%-10%, then it will not be wise to have threshold 0.1"
   ]
  },
  {
   "cell_type": "code",
   "execution_count": 4,
   "id": "79b1b56e",
   "metadata": {
    "execution": {
     "iopub.execute_input": "2022-07-18T14:06:22.785190Z",
     "iopub.status.busy": "2022-07-18T14:06:22.784896Z",
     "iopub.status.idle": "2022-07-18T14:06:22.803865Z",
     "shell.execute_reply": "2022-07-18T14:06:22.802837Z"
    },
    "papermill": {
     "duration": 0.033119,
     "end_time": "2022-07-18T14:06:22.807164",
     "exception": false,
     "start_time": "2022-07-18T14:06:22.774045",
     "status": "completed"
    },
    "tags": []
   },
   "outputs": [
    {
     "name": "stdout",
     "output_type": "stream",
     "text": [
      "Columns Removed are: \n",
      "['var_12', 'var_25', 'var_43', 'var_68', 'var_71', 'var_91', 'var_103', 'var_108', 'var_148', 'var_161'] \n",
      "\n",
      "Columns Selected are: \n",
      "['var_0', 'var_1', 'var_2', 'var_3', 'var_4', 'var_5', 'var_6', 'var_7', 'var_8', 'var_9', 'var_10', 'var_11', 'var_13', 'var_14', 'var_15', 'var_16', 'var_17', 'var_18', 'var_19', 'var_20', 'var_21', 'var_22', 'var_23', 'var_24', 'var_26', 'var_27', 'var_28', 'var_29', 'var_30', 'var_31', 'var_32', 'var_33', 'var_34', 'var_35', 'var_36', 'var_37', 'var_38', 'var_39', 'var_40', 'var_41', 'var_42', 'var_44', 'var_45', 'var_46', 'var_47', 'var_48', 'var_49', 'var_50', 'var_51', 'var_52', 'var_53', 'var_54', 'var_55', 'var_56', 'var_57', 'var_58', 'var_59', 'var_60', 'var_61', 'var_62', 'var_63', 'var_64', 'var_65', 'var_66', 'var_67', 'var_69', 'var_70', 'var_72', 'var_73', 'var_74', 'var_75', 'var_76', 'var_77', 'var_78', 'var_79', 'var_80', 'var_81', 'var_82', 'var_83', 'var_84', 'var_85', 'var_86', 'var_87', 'var_88', 'var_89', 'var_90', 'var_92', 'var_93', 'var_94', 'var_95', 'var_96', 'var_97', 'var_98', 'var_99', 'var_100', 'var_101', 'var_102', 'var_104', 'var_105', 'var_106', 'var_107', 'var_109', 'var_110', 'var_111', 'var_112', 'var_113', 'var_114', 'var_115', 'var_116', 'var_117', 'var_118', 'var_119', 'var_120', 'var_121', 'var_122', 'var_123', 'var_124', 'var_125', 'var_126', 'var_127', 'var_128', 'var_129', 'var_130', 'var_131', 'var_132', 'var_133', 'var_134', 'var_135', 'var_136', 'var_137', 'var_138', 'var_139', 'var_140', 'var_141', 'var_142', 'var_143', 'var_144', 'var_145', 'var_146', 'var_147', 'var_149', 'var_150', 'var_151', 'var_152', 'var_153', 'var_154', 'var_155', 'var_156', 'var_157', 'var_158', 'var_159', 'var_160', 'var_162', 'var_163', 'var_164', 'var_165', 'var_166', 'var_167', 'var_168', 'var_169', 'var_170', 'var_171', 'var_172', 'var_173', 'var_174', 'var_175', 'var_176', 'var_177', 'var_178', 'var_179', 'var_180', 'var_181', 'var_182', 'var_183', 'var_184', 'var_185', 'var_186', 'var_187', 'var_188', 'var_189', 'var_190', 'var_191', 'var_192', 'var_193', 'var_194', 'var_195', 'var_196', 'var_197', 'var_198', 'var_199']\n"
     ]
    }
   ],
   "source": [
    "# print the constant features\n",
    "cols_removed = [x for x in X_train.columns if x not in X_train.columns[vt.get_support()]]\n",
    "\n",
    "#Print columns selected by Variance Threshold\n",
    "# print the constant features\n",
    "cols_selected = [x for x in X_train.columns[vt.get_support()]]\n",
    "print(\"Columns Removed are: \")\n",
    "print(cols_removed, \"\\n\")\n",
    "print(\"Columns Selected are: \")\n",
    "print(cols_selected)"
   ]
  },
  {
   "cell_type": "code",
   "execution_count": 5,
   "id": "dd8eb8f3",
   "metadata": {
    "execution": {
     "iopub.execute_input": "2022-07-18T14:06:22.830466Z",
     "iopub.status.busy": "2022-07-18T14:06:22.830209Z",
     "iopub.status.idle": "2022-07-18T14:06:23.019719Z",
     "shell.execute_reply": "2022-07-18T14:06:23.018799Z"
    },
    "papermill": {
     "duration": 0.203783,
     "end_time": "2022-07-18T14:06:23.022362",
     "exception": false,
     "start_time": "2022-07-18T14:06:22.818579",
     "status": "completed"
    },
    "tags": []
   },
   "outputs": [
    {
     "data": {
      "text/plain": [
       "((200000, 190), (200000, 190))"
      ]
     },
     "execution_count": 5,
     "metadata": {},
     "output_type": "execute_result"
    }
   ],
   "source": [
    "X_train = vt.transform(X_train)\n",
    "X_test = vt.transform(X_test)\n",
    "\n",
    "# Converting numpy array to pandas dataframe\n",
    "X_train= pd.DataFrame(X_train,columns= cols_selected)\n",
    "X_test= pd.DataFrame(X_test,columns= cols_selected)\n",
    "\n",
    "# check the shape of training and test set\n",
    "X_train.shape, X_test.shape"
   ]
  },
  {
   "cell_type": "markdown",
   "id": "8fefa734",
   "metadata": {
    "papermill": {
     "duration": 0.010191,
     "end_time": "2022-07-18T14:06:23.043116",
     "exception": false,
     "start_time": "2022-07-18T14:06:23.032925",
     "status": "completed"
    },
    "tags": []
   },
   "source": [
    "### 2. Univariate Methods"
   ]
  },
  {
   "cell_type": "markdown",
   "id": "a9e0010e",
   "metadata": {
    "papermill": {
     "duration": 0.009973,
     "end_time": "2022-07-18T14:06:23.063264",
     "exception": false,
     "start_time": "2022-07-18T14:06:23.053291",
     "status": "completed"
    },
    "tags": []
   },
   "source": [
    "Univariate feature selection works by selecting the best features using univariate statistical tests such as chi-square. It examines each feature individually to determine the strength of the relationship of the feature with the response variable. It can be seen as a preprocessing step to an estimator. \n",
    "- For regression tasks: f_regression, mutual_info_regression\n",
    "- For classification tasks: chi2, f_classif, mutual_info_classif"
   ]
  },
  {
   "cell_type": "markdown",
   "id": "95f1b060",
   "metadata": {
    "papermill": {
     "duration": 0.010707,
     "end_time": "2022-07-18T14:06:23.084103",
     "exception": false,
     "start_time": "2022-07-18T14:06:23.073396",
     "status": "completed"
    },
    "tags": []
   },
   "source": [
    "There are 4 methods that fall under this category :-\n",
    "- SelectKBest : SelectKBest is one of the univariate methods which removes all but the specified number of highest scoring features. \n",
    "- SelectPercentile\n",
    "- SelectFpr, SelectFdr, or family wise error SelectFwe\n",
    "- GenericUnivariateSelection"
   ]
  },
  {
   "cell_type": "code",
   "execution_count": 6,
   "id": "bc2a3c64",
   "metadata": {
    "execution": {
     "iopub.execute_input": "2022-07-18T14:06:23.105660Z",
     "iopub.status.busy": "2022-07-18T14:06:23.105365Z",
     "iopub.status.idle": "2022-07-18T14:06:23.179654Z",
     "shell.execute_reply": "2022-07-18T14:06:23.178790Z"
    },
    "papermill": {
     "duration": 0.08719,
     "end_time": "2022-07-18T14:06:23.181441",
     "exception": false,
     "start_time": "2022-07-18T14:06:23.094251",
     "status": "completed"
    },
    "tags": []
   },
   "outputs": [
    {
     "name": "stdout",
     "output_type": "stream",
     "text": [
      "(150, 4)\n"
     ]
    },
    {
     "data": {
      "text/html": [
       "<div>\n",
       "<style scoped>\n",
       "    .dataframe tbody tr th:only-of-type {\n",
       "        vertical-align: middle;\n",
       "    }\n",
       "\n",
       "    .dataframe tbody tr th {\n",
       "        vertical-align: top;\n",
       "    }\n",
       "\n",
       "    .dataframe thead th {\n",
       "        text-align: right;\n",
       "    }\n",
       "</style>\n",
       "<table border=\"1\" class=\"dataframe\">\n",
       "  <thead>\n",
       "    <tr style=\"text-align: right;\">\n",
       "      <th></th>\n",
       "      <th>0</th>\n",
       "      <th>1</th>\n",
       "      <th>2</th>\n",
       "      <th>3</th>\n",
       "    </tr>\n",
       "  </thead>\n",
       "  <tbody>\n",
       "    <tr>\n",
       "      <th>0</th>\n",
       "      <td>5.1</td>\n",
       "      <td>3.5</td>\n",
       "      <td>1.4</td>\n",
       "      <td>0.2</td>\n",
       "    </tr>\n",
       "    <tr>\n",
       "      <th>1</th>\n",
       "      <td>4.9</td>\n",
       "      <td>3.0</td>\n",
       "      <td>1.4</td>\n",
       "      <td>0.2</td>\n",
       "    </tr>\n",
       "    <tr>\n",
       "      <th>2</th>\n",
       "      <td>4.7</td>\n",
       "      <td>3.2</td>\n",
       "      <td>1.3</td>\n",
       "      <td>0.2</td>\n",
       "    </tr>\n",
       "    <tr>\n",
       "      <th>3</th>\n",
       "      <td>4.6</td>\n",
       "      <td>3.1</td>\n",
       "      <td>1.5</td>\n",
       "      <td>0.2</td>\n",
       "    </tr>\n",
       "    <tr>\n",
       "      <th>4</th>\n",
       "      <td>5.0</td>\n",
       "      <td>3.6</td>\n",
       "      <td>1.4</td>\n",
       "      <td>0.2</td>\n",
       "    </tr>\n",
       "  </tbody>\n",
       "</table>\n",
       "</div>"
      ],
      "text/plain": [
       "     0    1    2    3\n",
       "0  5.1  3.5  1.4  0.2\n",
       "1  4.9  3.0  1.4  0.2\n",
       "2  4.7  3.2  1.3  0.2\n",
       "3  4.6  3.1  1.5  0.2\n",
       "4  5.0  3.6  1.4  0.2"
      ]
     },
     "execution_count": 6,
     "metadata": {},
     "output_type": "execute_result"
    }
   ],
   "source": [
    "from sklearn.datasets import load_iris\n",
    "X, y = load_iris(return_X_y=True)\n",
    "print(X.shape)\n",
    "X= pd.DataFrame(X)\n",
    "y=pd.DataFrame(y, columns=[\"target\"])\n",
    "X.head()"
   ]
  },
  {
   "cell_type": "markdown",
   "id": "f60e3a1c",
   "metadata": {
    "papermill": {
     "duration": 0.010607,
     "end_time": "2022-07-18T14:06:23.203068",
     "exception": false,
     "start_time": "2022-07-18T14:06:23.192461",
     "status": "completed"
    },
    "tags": []
   },
   "source": [
    "### 2.1 Chi Square Test"
   ]
  },
  {
   "cell_type": "markdown",
   "id": "33f4b320",
   "metadata": {
    "papermill": {
     "duration": 0.010184,
     "end_time": "2022-07-18T14:06:23.224172",
     "exception": false,
     "start_time": "2022-07-18T14:06:23.213988",
     "status": "completed"
    },
    "tags": []
   },
   "source": [
    "- It is the chi-square implementation in scikit-learn. It computes chi-squared stats between each non-negative feature and class.\n",
    "- This score should be used to evaluate categorical variables in a classification task. It compares the observed distribution of the different classes of target Y among the different categories of the feature, against the expected distribution of the target classes, regardless of the feature categories."
   ]
  },
  {
   "cell_type": "markdown",
   "id": "0e03bc45",
   "metadata": {
    "papermill": {
     "duration": 0.010225,
     "end_time": "2022-07-18T14:06:23.244657",
     "exception": false,
     "start_time": "2022-07-18T14:06:23.234432",
     "status": "completed"
    },
    "tags": []
   },
   "source": [
    "**SelectKBest**: This method select features according to the k highest scores."
   ]
  },
  {
   "cell_type": "code",
   "execution_count": 7,
   "id": "044fb583",
   "metadata": {
    "execution": {
     "iopub.execute_input": "2022-07-18T14:06:23.266480Z",
     "iopub.status.busy": "2022-07-18T14:06:23.266186Z",
     "iopub.status.idle": "2022-07-18T14:06:23.279899Z",
     "shell.execute_reply": "2022-07-18T14:06:23.278739Z"
    },
    "papermill": {
     "duration": 0.027482,
     "end_time": "2022-07-18T14:06:23.282410",
     "exception": false,
     "start_time": "2022-07-18T14:06:23.254928",
     "status": "completed"
    },
    "tags": []
   },
   "outputs": [
    {
     "name": "stdout",
     "output_type": "stream",
     "text": [
      "The best features are:[2, 3]\n"
     ]
    }
   ],
   "source": [
    "from sklearn.feature_selection import SelectKBest, chi2\n",
    "\n",
    "X_k_best= SelectKBest(chi2, k=2).fit(X, y)\n",
    "\n",
    "\n",
    "mask = X_k_best.get_support() #list of booleans for selected features\n",
    "new_feat = [] \n",
    "for bool, feature in zip(mask, X.columns):\n",
    "    if bool:\n",
    "        new_feat.append(feature)\n",
    "print(\"The best features are:{}\".format(new_feat)) # The list of your k best features"
   ]
  },
  {
   "cell_type": "markdown",
   "id": "1bdd0162",
   "metadata": {
    "papermill": {
     "duration": 0.01017,
     "end_time": "2022-07-18T14:06:23.303631",
     "exception": false,
     "start_time": "2022-07-18T14:06:23.293461",
     "status": "completed"
    },
    "tags": []
   },
   "source": [
    "**SelectPercentile** : Select features according to a percentile of the highest scores."
   ]
  },
  {
   "cell_type": "code",
   "execution_count": 8,
   "id": "e366c39d",
   "metadata": {
    "execution": {
     "iopub.execute_input": "2022-07-18T14:06:23.326236Z",
     "iopub.status.busy": "2022-07-18T14:06:23.325407Z",
     "iopub.status.idle": "2022-07-18T14:06:23.337408Z",
     "shell.execute_reply": "2022-07-18T14:06:23.336413Z"
    },
    "papermill": {
     "duration": 0.025687,
     "end_time": "2022-07-18T14:06:23.339621",
     "exception": false,
     "start_time": "2022-07-18T14:06:23.313934",
     "status": "completed"
    },
    "tags": []
   },
   "outputs": [
    {
     "data": {
      "text/plain": [
       "(150, 2)"
      ]
     },
     "execution_count": 8,
     "metadata": {},
     "output_type": "execute_result"
    }
   ],
   "source": [
    "from sklearn.feature_selection import SelectPercentile, chi2\n",
    "# now select features based on top 50 percentile\n",
    "X_new = SelectPercentile(chi2, percentile=50).fit_transform(X, y)\n",
    "\n",
    "X_new.shape"
   ]
  },
  {
   "cell_type": "markdown",
   "id": "f533f312",
   "metadata": {
    "papermill": {
     "duration": 0.010768,
     "end_time": "2022-07-18T14:06:23.361729",
     "exception": false,
     "start_time": "2022-07-18T14:06:23.350961",
     "status": "completed"
    },
    "tags": []
   },
   "source": [
    "### 2.2 F-Test"
   ]
  },
  {
   "cell_type": "markdown",
   "id": "cee19cca",
   "metadata": {
    "papermill": {
     "duration": 0.010513,
     "end_time": "2022-07-18T14:06:23.382718",
     "exception": false,
     "start_time": "2022-07-18T14:06:23.372205",
     "status": "completed"
    },
    "tags": []
   },
   "source": [
    "- Compute the ANOVA F-value for the provided sample.\n",
    "- If the features are categorical, we will calculate a chi-square statistic between each feature and the target vector. However, if the features are quantitative, we will compute the ANOVA F-value between each feature and the target vector.\n",
    "- The F-value scores examine if, when we group the numerical feature by the target vector, the means for each group are significantly different."
   ]
  },
  {
   "cell_type": "code",
   "execution_count": 9,
   "id": "3c23c68f",
   "metadata": {
    "execution": {
     "iopub.execute_input": "2022-07-18T14:06:23.405922Z",
     "iopub.status.busy": "2022-07-18T14:06:23.405065Z",
     "iopub.status.idle": "2022-07-18T14:06:23.416897Z",
     "shell.execute_reply": "2022-07-18T14:06:23.415933Z"
    },
    "papermill": {
     "duration": 0.026048,
     "end_time": "2022-07-18T14:06:23.419722",
     "exception": false,
     "start_time": "2022-07-18T14:06:23.393674",
     "status": "completed"
    },
    "tags": []
   },
   "outputs": [
    {
     "name": "stdout",
     "output_type": "stream",
     "text": [
      "[False False  True  True]\n"
     ]
    },
    {
     "name": "stderr",
     "output_type": "stream",
     "text": [
      "/opt/conda/lib/python3.7/site-packages/sklearn/utils/validation.py:993: DataConversionWarning: A column-vector y was passed when a 1d array was expected. Please change the shape of y to (n_samples, ), for example using ravel().\n",
      "  y = column_or_1d(y, warn=True)\n"
     ]
    }
   ],
   "source": [
    "from sklearn.feature_selection import f_classif\n",
    "sel_f = SelectKBest(f_classif, k=2)\n",
    "X_f = sel_f.fit_transform(X, y)\n",
    "print(sel_f.get_support())"
   ]
  },
  {
   "cell_type": "markdown",
   "id": "7810ef45",
   "metadata": {
    "papermill": {
     "duration": 0.011237,
     "end_time": "2022-07-18T14:06:23.442524",
     "exception": false,
     "start_time": "2022-07-18T14:06:23.431287",
     "status": "completed"
    },
    "tags": []
   },
   "source": [
    "### 2.3 Mutual Information Test"
   ]
  },
  {
   "cell_type": "markdown",
   "id": "e57e0ced",
   "metadata": {
    "papermill": {
     "duration": 0.010328,
     "end_time": "2022-07-18T14:06:23.463417",
     "exception": false,
     "start_time": "2022-07-18T14:06:23.453089",
     "status": "completed"
    },
    "tags": []
   },
   "source": [
    "- Mutual information (MI) between two random variables is a non-negative value, which measures the dependency between the variables. \n",
    "- The MI score will fall in the range from 0 to ∞. The higher value, the closer connection between this feature and the target, which suggests that we should put this feature in the training dataset. If the MI score is 0 or very low like 0.01. the low score suggests a weak connection between this feature and the target.\n",
    "- This function relies on nonparametric methods based on entropy estimation from k-nearest neighbors distances.\n",
    "- It can be used for univariate features selection.\n",
    "- Mutual Information measures the entropy drops under the condition of the target value.\n",
    "- MI(feature;target) = Entropy(feature) - Entropy(feature|target)\n"
   ]
  },
  {
   "cell_type": "code",
   "execution_count": 10,
   "id": "07de9684",
   "metadata": {
    "execution": {
     "iopub.execute_input": "2022-07-18T14:06:23.486204Z",
     "iopub.status.busy": "2022-07-18T14:06:23.485435Z",
     "iopub.status.idle": "2022-07-18T14:06:23.490361Z",
     "shell.execute_reply": "2022-07-18T14:06:23.489459Z"
    },
    "papermill": {
     "duration": 0.018277,
     "end_time": "2022-07-18T14:06:23.492216",
     "exception": false,
     "start_time": "2022-07-18T14:06:23.473939",
     "status": "completed"
    },
    "tags": []
   },
   "outputs": [],
   "source": [
    "from sklearn.feature_selection import mutual_info_regression, mutual_info_classif"
   ]
  },
  {
   "cell_type": "code",
   "execution_count": 11,
   "id": "d6b20a5c",
   "metadata": {
    "execution": {
     "iopub.execute_input": "2022-07-18T14:06:23.515009Z",
     "iopub.status.busy": "2022-07-18T14:06:23.514275Z",
     "iopub.status.idle": "2022-07-18T14:06:23.539368Z",
     "shell.execute_reply": "2022-07-18T14:06:23.537501Z"
    },
    "papermill": {
     "duration": 0.038985,
     "end_time": "2022-07-18T14:06:23.541696",
     "exception": false,
     "start_time": "2022-07-18T14:06:23.502711",
     "status": "completed"
    },
    "tags": []
   },
   "outputs": [
    {
     "name": "stdout",
     "output_type": "stream",
     "text": [
      "(150, 2)\n"
     ]
    },
    {
     "name": "stderr",
     "output_type": "stream",
     "text": [
      "/opt/conda/lib/python3.7/site-packages/sklearn/utils/validation.py:993: DataConversionWarning: A column-vector y was passed when a 1d array was expected. Please change the shape of y to (n_samples, ), for example using ravel().\n",
      "  y = column_or_1d(y, warn=True)\n"
     ]
    },
    {
     "data": {
      "text/plain": [
       "array([2, 3])"
      ]
     },
     "execution_count": 11,
     "metadata": {},
     "output_type": "execute_result"
    }
   ],
   "source": [
    "selector = SelectKBest(mutual_info_classif, k=2)\n",
    "#selector = SelectPercentile(mutual_info_classif, percentile=50)\n",
    "X_mutual = selector.fit_transform(X, y)\n",
    "print(X_mutual.shape)\n",
    "\n",
    "\n",
    "cols = selector.get_support(indices=True)\n",
    "cols"
   ]
  },
  {
   "cell_type": "markdown",
   "id": "f0ec3312",
   "metadata": {
    "papermill": {
     "duration": 0.010813,
     "end_time": "2022-07-18T14:06:23.563571",
     "exception": false,
     "start_time": "2022-07-18T14:06:23.552758",
     "status": "completed"
    },
    "tags": []
   },
   "source": [
    "### 3. Recursive Feature Elimination\n"
   ]
  },
  {
   "cell_type": "markdown",
   "id": "827c62b7",
   "metadata": {
    "papermill": {
     "duration": 0.010799,
     "end_time": "2022-07-18T14:06:23.585110",
     "exception": false,
     "start_time": "2022-07-18T14:06:23.574311",
     "status": "completed"
    },
    "tags": []
   },
   "source": [
    "- Recursive feature elimination (RFE) is a feature selection method that fits a model and removes the weakest feature (or features) until the specified number of features is reached. Features are ranked by the model’s coef_ or feature_importances_ attributes, and by recursively eliminating a small number of features per loop, RFE attempts to eliminate dependencies and collinearity that may exist in the model.\n",
    "- RFE works by searching for a subset of features by starting with all features in the training dataset and successfully removing features until the desired number remains.\n",
    "- This is achieved by fitting the given machine learning algorithm used in the core of the model, ranking features by importance, discarding the least important features, and re-fitting the model. This process is repeated until a specified number of features remains.\n",
    "- There are two important configuration options when using RFE: the choice in the number of features to select and the choice of the algorithm used to help choose features.\n",
    "- step: step corresponds to the number of features to remove at each iteration. modifying the step parameter to eliminate more than one feature at each step may help to eliminate the worst features early, strengthening the remaining features (and can also be used to speed up feature elimination for datasets with a large number of features)."
   ]
  },
  {
   "cell_type": "code",
   "execution_count": 12,
   "id": "64f64a8e",
   "metadata": {
    "execution": {
     "iopub.execute_input": "2022-07-18T14:06:23.608160Z",
     "iopub.status.busy": "2022-07-18T14:06:23.607420Z",
     "iopub.status.idle": "2022-07-18T14:06:23.671658Z",
     "shell.execute_reply": "2022-07-18T14:06:23.670655Z"
    },
    "papermill": {
     "duration": 0.077824,
     "end_time": "2022-07-18T14:06:23.673703",
     "exception": false,
     "start_time": "2022-07-18T14:06:23.595879",
     "status": "completed"
    },
    "tags": []
   },
   "outputs": [],
   "source": [
    "from sklearn.feature_selection import RFE\n",
    "from sklearn.ensemble import AdaBoostRegressor\n",
    "from sklearn.datasets import fetch_california_housing\n",
    "from numpy import array\n"
   ]
  },
  {
   "cell_type": "code",
   "execution_count": 13,
   "id": "3b9fd1bf",
   "metadata": {
    "execution": {
     "iopub.execute_input": "2022-07-18T14:06:23.697350Z",
     "iopub.status.busy": "2022-07-18T14:06:23.696714Z",
     "iopub.status.idle": "2022-07-18T14:06:31.964550Z",
     "shell.execute_reply": "2022-07-18T14:06:31.963239Z"
    },
    "papermill": {
     "duration": 8.282467,
     "end_time": "2022-07-18T14:06:31.967550",
     "exception": false,
     "start_time": "2022-07-18T14:06:23.685083",
     "status": "completed"
    },
    "tags": []
   },
   "outputs": [
    {
     "name": "stdout",
     "output_type": "stream",
     "text": [
      "Feature data dimension:  (20640, 8)\n",
      "Mask data:  [ True False False False False  True  True  True]\n",
      "Ranking:  [1 4 2 5 3 1 1 1]\n",
      "All features:\n",
      "['MedInc' 'HouseAge' 'AveRooms' 'AveBedrms' 'Population' 'AveOccup'\n",
      " 'Latitude' 'Longitude']\n",
      "Selected features:\n",
      "['MedInc' 'AveOccup' 'Latitude' 'Longitude']\n"
     ]
    }
   ],
   "source": [
    "housing = fetch_california_housing()\n",
    "x = housing.data\n",
    "y = housing.target\n",
    "\n",
    "print(\"Feature data dimension: \", x.shape)\n",
    "\n",
    "estimator = AdaBoostRegressor(random_state=0, n_estimators=100)\n",
    "selector = RFE(estimator, n_features_to_select=4, step=1)\n",
    "selector = selector.fit(x, y)\n",
    " \n",
    "filter = selector.support_\n",
    "ranking = selector.ranking_\n",
    "\n",
    "print(\"Mask data: \", filter)\n",
    "print(\"Ranking: \", ranking)\n",
    "\n",
    "features = array(housing.feature_names)\n",
    "print(\"All features:\")\n",
    "print(features)\n",
    "\n",
    "print(\"Selected features:\")\n",
    "print(features[filter])   \n",
    " "
   ]
  },
  {
   "cell_type": "markdown",
   "id": "c3c23199",
   "metadata": {
    "papermill": {
     "duration": 0.011266,
     "end_time": "2022-07-18T14:06:31.990861",
     "exception": false,
     "start_time": "2022-07-18T14:06:31.979595",
     "status": "completed"
    },
    "tags": []
   },
   "source": [
    "### 4. Recursive Feature Elimination with Cross-Validation"
   ]
  },
  {
   "cell_type": "markdown",
   "id": "e1391f62",
   "metadata": {
    "papermill": {
     "duration": 0.011037,
     "end_time": "2022-07-18T14:06:32.012704",
     "exception": false,
     "start_time": "2022-07-18T14:06:32.001667",
     "status": "completed"
    },
    "tags": []
   },
   "source": [
    "\n",
    "RFE requires a specified number of features to keep, however it is often not known in advance how many features are valid. To find the optimal number of features cross-validation is used with RFE to score different feature subsets and select the best scoring collection of features. The RFECV visualizer plots the number of features in the model along with their cross-validated test score and variability and visualizes the selected number of features.<br>\n",
    "How RFECV works:<br>\n",
    "Say you run a 3-fold RFECV. For each split, the train set will be transformed by RFE n times (for each possible 1..n number of features). The classifier supplied will be trained on the training set, and a score will be computed on the test set. Eventually, for each 1..n number of features, the mean result from the 3 different splits is shown on the graph you included. Then, RFEVC transforms the entire set using the best scoring number of features. The ranking you see is based on that final transformation.<br>\n",
    "\n",
    "Source: https://stats.stackexchange.com/questions/305191/understanding-cross-validated-recursive-feature-elimination/305195#305195?newreg=adb632b7ae834db7a004f0498becda43"
   ]
  },
  {
   "cell_type": "markdown",
   "id": "6f103702",
   "metadata": {
    "papermill": {
     "duration": 0.011158,
     "end_time": "2022-07-18T14:06:32.034963",
     "exception": false,
     "start_time": "2022-07-18T14:06:32.023805",
     "status": "completed"
    },
    "tags": []
   },
   "source": [
    "Using Yellowbrick"
   ]
  },
  {
   "cell_type": "code",
   "execution_count": 14,
   "id": "1f756544",
   "metadata": {
    "execution": {
     "iopub.execute_input": "2022-07-18T14:06:32.058408Z",
     "iopub.status.busy": "2022-07-18T14:06:32.058074Z",
     "iopub.status.idle": "2022-07-18T14:06:34.528420Z",
     "shell.execute_reply": "2022-07-18T14:06:34.527529Z"
    },
    "papermill": {
     "duration": 2.484777,
     "end_time": "2022-07-18T14:06:34.530609",
     "exception": false,
     "start_time": "2022-07-18T14:06:32.045832",
     "status": "completed"
    },
    "tags": []
   },
   "outputs": [
    {
     "data": {
      "text/plain": [
       "(30000, 23)"
      ]
     },
     "execution_count": 14,
     "metadata": {},
     "output_type": "execute_result"
    }
   ],
   "source": [
    "from sklearn.ensemble import RandomForestClassifier\n",
    "from sklearn.model_selection import StratifiedKFold\n",
    "\n",
    "from yellowbrick.model_selection import RFECV\n",
    "from yellowbrick.datasets import load_credit\n",
    "\n",
    "# Load classification dataset\n",
    "X, y = load_credit()\n",
    "X.shape"
   ]
  },
  {
   "cell_type": "code",
   "execution_count": 15,
   "id": "a84ce490",
   "metadata": {
    "execution": {
     "iopub.execute_input": "2022-07-18T14:06:34.554824Z",
     "iopub.status.busy": "2022-07-18T14:06:34.553986Z",
     "iopub.status.idle": "2022-07-18T14:26:33.093861Z",
     "shell.execute_reply": "2022-07-18T14:26:33.093019Z"
    },
    "papermill": {
     "duration": 1198.567895,
     "end_time": "2022-07-18T14:26:33.109883",
     "exception": false,
     "start_time": "2022-07-18T14:06:34.541988",
     "status": "completed"
    },
    "tags": []
   },
   "outputs": [
    {
     "data": {
      "image/png": "[encoded data removed]",
      "text/plain": [
       "<Figure size 576x396 with 1 Axes>"
      ]
     },
     "metadata": {},
     "output_type": "display_data"
    },
    {
     "name": "stdout",
     "output_type": "stream",
     "text": [
      "Optimal number of features : 17\n"
     ]
    }
   ],
   "source": [
    "min_features_to_select = 1\n",
    "cv = StratifiedKFold(3)\n",
    "visualizer = RFECV(RandomForestClassifier(),step=2, cv=cv, scoring='f1_weighted', min_features_to_select=min_features_to_select)\n",
    "\n",
    "visualizer.fit(X, y)        # Fit the data to the visualizer\n",
    "visualizer.show()           # Finalize and render the figure\n",
    "print(\"Optimal number of features : %d\" % visualizer.n_features_)"
   ]
  },
  {
   "cell_type": "code",
   "execution_count": 16,
   "id": "face9836",
   "metadata": {
    "execution": {
     "iopub.execute_input": "2022-07-18T14:26:33.136130Z",
     "iopub.status.busy": "2022-07-18T14:26:33.135859Z",
     "iopub.status.idle": "2022-07-18T14:26:33.141462Z",
     "shell.execute_reply": "2022-07-18T14:26:33.140586Z"
    },
    "papermill": {
     "duration": 0.021038,
     "end_time": "2022-07-18T14:26:33.143704",
     "exception": false,
     "start_time": "2022-07-18T14:26:33.122666",
     "status": "completed"
    },
    "tags": []
   },
   "outputs": [
    {
     "name": "stdout",
     "output_type": "stream",
     "text": [
      "All features:\n",
      "['limit' 'sex' 'edu' 'married' 'age' 'apr_delay' 'may_delay' 'jun_delay'\n",
      " 'jul_delay' 'aug_delay' 'sep_delay' 'apr_bill' 'may_bill' 'jun_bill'\n",
      " 'jul_bill' 'aug_bill' 'sep_bill' 'apr_pay' 'may_pay' 'jun_pay' 'jul_pay'\n",
      " 'aug_pay' 'sep_pay']\n",
      "Selected features:\n",
      "['limit' 'age' 'apr_delay' 'may_delay' 'jun_delay' 'apr_bill' 'may_bill'\n",
      " 'jun_bill' 'jul_bill' 'aug_bill' 'sep_bill' 'apr_pay' 'may_pay' 'jun_pay'\n",
      " 'jul_pay' 'aug_pay' 'sep_pay']\n"
     ]
    }
   ],
   "source": [
    "filter= visualizer.support_\n",
    "#print(filter)\n",
    "features = array(X.columns)\n",
    "print(\"All features:\")\n",
    "print(features)\n",
    "\n",
    "print(\"Selected features:\")\n",
    "print(features[filter])   \n",
    " "
   ]
  },
  {
   "cell_type": "markdown",
   "id": "b4cfcdd9",
   "metadata": {
    "papermill": {
     "duration": 0.012081,
     "end_time": "2022-07-18T14:26:33.167488",
     "exception": false,
     "start_time": "2022-07-18T14:26:33.155407",
     "status": "completed"
    },
    "tags": []
   },
   "source": [
    "p.s. this method was really slow. Hence, use it only when high computational power is available or when we are working with smaller datasets"
   ]
  },
  {
   "cell_type": "markdown",
   "id": "bc908122",
   "metadata": {
    "papermill": {
     "duration": 0.011366,
     "end_time": "2022-07-18T14:26:33.190545",
     "exception": false,
     "start_time": "2022-07-18T14:26:33.179179",
     "status": "completed"
    },
    "tags": []
   },
   "source": [
    "### 5. Forward Selection"
   ]
  },
  {
   "cell_type": "markdown",
   "id": "b4d77f19",
   "metadata": {
    "papermill": {
     "duration": 0.011366,
     "end_time": "2022-07-18T14:26:33.213477",
     "exception": false,
     "start_time": "2022-07-18T14:26:33.202111",
     "status": "completed"
    },
    "tags": []
   },
   "source": [
    "- Forward selection is an iterative method in which we start with having no feature in the model. In each iteration, we keep adding the feature which best improves our model till an addition of a new variable does not improve the performance of the model.\n",
    "- The procedure starts with an empty set of features [reduced set]. The best of the original features is determined and added to the reduced set. At each subsequent iteration, the best of the remaining original attributes is added to the set.\n",
    "- Step forward feature selection starts by evaluating all features individually and selects the one that generates the best performing algorithm, according to a pre-set evaluation criteria. In the second step, it evaluates all possible combinations of the selected feature and a second feature, and selects the pair that produce the best performing algorithm based on the same pre-set criteria.\n",
    "- The pre-set criteria can be the roc_auc for classification and the r squared for regression for example.\n",
    "- This selection procedure is called greedy, because it evaluates all possible single, double, triple and so on feature combinations. Therefore, it is quite computationally expensive, and sometimes, if feature space is big, even unfeasible.\n",
    "- There is a special package for python that implements this type of feature selection: mlxtend.\n",
    "- In the mlxtend implementation of the step forward feature selection, the stopping criteria is an arbitrarily set number of features. So the search will finish when we reach the desired number of selected features.\n",
    "- Python Example Source: https://www.analyticsvidhya.com/blog/2021/04/forward-feature-selection-and-its-implementation/"
   ]
  },
  {
   "cell_type": "markdown",
   "id": "cf70f853",
   "metadata": {
    "papermill": {
     "duration": 0.01137,
     "end_time": "2022-07-18T14:26:33.236389",
     "exception": false,
     "start_time": "2022-07-18T14:26:33.225019",
     "status": "completed"
    },
    "tags": []
   },
   "source": [
    "**Using mlxtend library**"
   ]
  },
  {
   "cell_type": "code",
   "execution_count": 17,
   "id": "f15d7ac5",
   "metadata": {
    "execution": {
     "iopub.execute_input": "2022-07-18T14:26:33.260619Z",
     "iopub.status.busy": "2022-07-18T14:26:33.260366Z",
     "iopub.status.idle": "2022-07-18T14:26:34.132543Z",
     "shell.execute_reply": "2022-07-18T14:26:34.131523Z"
    },
    "papermill": {
     "duration": 0.887518,
     "end_time": "2022-07-18T14:26:34.135496",
     "exception": false,
     "start_time": "2022-07-18T14:26:33.247978",
     "status": "completed"
    },
    "tags": []
   },
   "outputs": [
    {
     "name": "stderr",
     "output_type": "stream",
     "text": [
      "[Parallel(n_jobs=1)]: Using backend SequentialBackend with 1 concurrent workers.\n",
      "[Parallel(n_jobs=1)]: Done   8 out of   8 | elapsed:    0.2s finished\n",
      "Features: 1/4[Parallel(n_jobs=1)]: Using backend SequentialBackend with 1 concurrent workers.\n",
      "[Parallel(n_jobs=1)]: Done   7 out of   7 | elapsed:    0.2s finished\n",
      "Features: 2/4[Parallel(n_jobs=1)]: Using backend SequentialBackend with 1 concurrent workers.\n",
      "[Parallel(n_jobs=1)]: Done   6 out of   6 | elapsed:    0.3s finished\n",
      "Features: 3/4[Parallel(n_jobs=1)]: Using backend SequentialBackend with 1 concurrent workers.\n",
      "[Parallel(n_jobs=1)]: Done   5 out of   5 | elapsed:    0.2s finished\n",
      "Features: 4/4"
     ]
    },
    {
     "name": "stdout",
     "output_type": "stream",
     "text": [
      "(20640, 8)\n",
      "        0     1         2         3       4         5      6       7\n",
      "0  8.3252  41.0  6.984127  1.023810   322.0  2.555556  37.88 -122.23\n",
      "1  8.3014  21.0  6.238137  0.971880  2401.0  2.109842  37.86 -122.22\n",
      "2  7.2574  52.0  8.288136  1.073446   496.0  2.802260  37.85 -122.24\n",
      "3  5.6431  52.0  5.817352  1.073059   558.0  2.547945  37.85 -122.25\n",
      "4  3.8462  52.0  6.281853  1.081081   565.0  2.181467  37.85 -122.25\n",
      "   target\n",
      "0   4.526\n",
      "1   3.585\n",
      "2   3.521\n",
      "3   3.413\n",
      "4   3.422\n",
      "[0, 1, 2, 3]\n"
     ]
    },
    {
     "data": {
      "text/html": [
       "<div>\n",
       "<style scoped>\n",
       "    .dataframe tbody tr th:only-of-type {\n",
       "        vertical-align: middle;\n",
       "    }\n",
       "\n",
       "    .dataframe tbody tr th {\n",
       "        vertical-align: top;\n",
       "    }\n",
       "\n",
       "    .dataframe thead th {\n",
       "        text-align: right;\n",
       "    }\n",
       "</style>\n",
       "<table border=\"1\" class=\"dataframe\">\n",
       "  <thead>\n",
       "    <tr style=\"text-align: right;\">\n",
       "      <th></th>\n",
       "      <th>0</th>\n",
       "      <th>1</th>\n",
       "      <th>2</th>\n",
       "      <th>3</th>\n",
       "    </tr>\n",
       "  </thead>\n",
       "  <tbody>\n",
       "    <tr>\n",
       "      <th>0</th>\n",
       "      <td>8.3252</td>\n",
       "      <td>41.0</td>\n",
       "      <td>6.984127</td>\n",
       "      <td>1.023810</td>\n",
       "    </tr>\n",
       "    <tr>\n",
       "      <th>1</th>\n",
       "      <td>8.3014</td>\n",
       "      <td>21.0</td>\n",
       "      <td>6.238137</td>\n",
       "      <td>0.971880</td>\n",
       "    </tr>\n",
       "    <tr>\n",
       "      <th>2</th>\n",
       "      <td>7.2574</td>\n",
       "      <td>52.0</td>\n",
       "      <td>8.288136</td>\n",
       "      <td>1.073446</td>\n",
       "    </tr>\n",
       "    <tr>\n",
       "      <th>3</th>\n",
       "      <td>5.6431</td>\n",
       "      <td>52.0</td>\n",
       "      <td>5.817352</td>\n",
       "      <td>1.073059</td>\n",
       "    </tr>\n",
       "    <tr>\n",
       "      <th>4</th>\n",
       "      <td>3.8462</td>\n",
       "      <td>52.0</td>\n",
       "      <td>6.281853</td>\n",
       "      <td>1.081081</td>\n",
       "    </tr>\n",
       "  </tbody>\n",
       "</table>\n",
       "</div>"
      ],
      "text/plain": [
       "        0     1         2         3\n",
       "0  8.3252  41.0  6.984127  1.023810\n",
       "1  8.3014  21.0  6.238137  0.971880\n",
       "2  7.2574  52.0  8.288136  1.073446\n",
       "3  5.6431  52.0  5.817352  1.073059\n",
       "4  3.8462  52.0  6.281853  1.081081"
      ]
     },
     "execution_count": 17,
     "metadata": {},
     "output_type": "execute_result"
    }
   ],
   "source": [
    "from mlxtend.feature_selection import SequentialFeatureSelector as sfs\n",
    "from sklearn.linear_model import LinearRegression\n",
    "\n",
    "housing = fetch_california_housing()\n",
    "X = pd.DataFrame(housing.data)\n",
    "y = pd.DataFrame(housing.target, columns=[\"target\"])\n",
    "# calling the linear regression model\n",
    "\n",
    "lreg = LinearRegression()\n",
    "sfs1 = sfs(lreg, k_features=4, forward=True, verbose=1, scoring='neg_mean_squared_error')\n",
    "# For Backward Elimination method, we set forward= False while everything else remains same\n",
    "\n",
    "sfs1 = sfs1.fit(X, y)\n",
    "feat_names = list(sfs1.k_feature_names_)\n",
    "\n",
    "print(X.shape)\n",
    "print(X.head())\n",
    "print(y.head())\n",
    "print(feat_names)\n",
    "\n",
    "# creating a new dataframe using the above variables and adding the target variable\n",
    "new_data = X[feat_names]\n",
    "# first five rows of the new data\n",
    "new_data.head()"
   ]
  },
  {
   "cell_type": "markdown",
   "id": "58efe876",
   "metadata": {
    "papermill": {
     "duration": 0.023781,
     "end_time": "2022-07-18T14:26:34.183373",
     "exception": false,
     "start_time": "2022-07-18T14:26:34.159592",
     "status": "completed"
    },
    "tags": []
   },
   "source": [
    "**Using sklearn**"
   ]
  },
  {
   "cell_type": "code",
   "execution_count": 18,
   "id": "c134b037",
   "metadata": {
    "execution": {
     "iopub.execute_input": "2022-07-18T14:26:34.231671Z",
     "iopub.status.busy": "2022-07-18T14:26:34.231388Z",
     "iopub.status.idle": "2022-07-18T14:26:34.348598Z",
     "shell.execute_reply": "2022-07-18T14:26:34.347168Z"
    },
    "papermill": {
     "duration": 0.143601,
     "end_time": "2022-07-18T14:26:34.350754",
     "exception": false,
     "start_time": "2022-07-18T14:26:34.207153",
     "status": "completed"
    },
    "tags": []
   },
   "outputs": [
    {
     "name": "stdout",
     "output_type": "stream",
     "text": [
      "[ True False  True  True]\n",
      "(150, 3)\n"
     ]
    }
   ],
   "source": [
    "from sklearn.feature_selection import SequentialFeatureSelector\n",
    "from sklearn.neighbors import KNeighborsClassifier\n",
    "from sklearn.datasets import load_iris\n",
    "X, y = load_iris(return_X_y=True)\n",
    "knn = KNeighborsClassifier(n_neighbors=3)\n",
    "sfs = SequentialFeatureSelector(knn, n_features_to_select=3, direction='forward')\n",
    "sfs.fit(X, y)\n",
    "SequentialFeatureSelector(estimator=KNeighborsClassifier(n_neighbors=3),\n",
    "                          n_features_to_select=3)\n",
    "print(sfs.get_support())\n",
    "print(sfs.transform(X).shape)"
   ]
  },
  {
   "cell_type": "markdown",
   "id": "e03584b7",
   "metadata": {
    "papermill": {
     "duration": 0.012087,
     "end_time": "2022-07-18T14:26:34.375273",
     "exception": false,
     "start_time": "2022-07-18T14:26:34.363186",
     "status": "completed"
    },
    "tags": []
   },
   "source": [
    "### 6. Select From Model"
   ]
  },
  {
   "cell_type": "markdown",
   "id": "f3cb7164",
   "metadata": {
    "papermill": {
     "duration": 0.012603,
     "end_time": "2022-07-18T14:26:34.400441",
     "exception": false,
     "start_time": "2022-07-18T14:26:34.387838",
     "status": "completed"
    },
    "tags": []
   },
   "source": [
    "- SelectFromModel is a meta-transformer that can be used alongside any estimator that assigns importance to each feature through a specific attribute (such as coef_, feature_importances_) or via an importance_getter callable after fitting. The features are considered unimportant and removed if the corresponding importance of the feature values are below the provided threshold parameter. \n",
    "- threshold: If “median” (resp. “mean”), then the threshold value is the median (resp. the mean) of the feature importances. A scaling factor (e.g., “1.25*mean”) may also be used. \n",
    "- One can use the max_features parameter to set a limit on the number of features to select.\n",
    "- Compared to univariate feature selection, model-based feature selection consider all feature at once, thus can capture interactions. The model used for the feature selection doesn’t need to be the same model for the training later."
   ]
  },
  {
   "cell_type": "markdown",
   "id": "eda81110",
   "metadata": {
    "papermill": {
     "duration": 0.012043,
     "end_time": "2022-07-18T14:26:34.424701",
     "exception": false,
     "start_time": "2022-07-18T14:26:34.412658",
     "status": "completed"
    },
    "tags": []
   },
   "source": [
    "**6.1 L-1 Based**"
   ]
  },
  {
   "cell_type": "markdown",
   "id": "622f3877",
   "metadata": {
    "papermill": {
     "duration": 0.012086,
     "end_time": "2022-07-18T14:26:34.449385",
     "exception": false,
     "start_time": "2022-07-18T14:26:34.437299",
     "status": "completed"
    },
    "tags": []
   },
   "source": [
    "Regularisation consists in adding a penalty to the different parameters of the machine learning model to reduce the freedom of the model and in other words to avoid overfitting. In linear model regularisation, the penalty is applied over the coefficients that multiply each of the predictors. From the different types of regularisation, Lasso or l1 has the property that is able to shrink some of the coefficients to zero. Therefore, that feature can be removed from the model."
   ]
  },
  {
   "cell_type": "code",
   "execution_count": 19,
   "id": "23fab884",
   "metadata": {
    "execution": {
     "iopub.execute_input": "2022-07-18T14:26:34.475161Z",
     "iopub.status.busy": "2022-07-18T14:26:34.474893Z",
     "iopub.status.idle": "2022-07-18T14:26:34.485827Z",
     "shell.execute_reply": "2022-07-18T14:26:34.484841Z"
    },
    "papermill": {
     "duration": 0.028195,
     "end_time": "2022-07-18T14:26:34.489919",
     "exception": false,
     "start_time": "2022-07-18T14:26:34.461724",
     "status": "completed"
    },
    "tags": []
   },
   "outputs": [
    {
     "name": "stdout",
     "output_type": "stream",
     "text": [
      "[ True  True  True False]\n"
     ]
    },
    {
     "name": "stderr",
     "output_type": "stream",
     "text": [
      "/opt/conda/lib/python3.7/site-packages/sklearn/svm/_base.py:1208: ConvergenceWarning: Liblinear failed to converge, increase the number of iterations.\n",
      "  ConvergenceWarning,\n"
     ]
    }
   ],
   "source": [
    "from sklearn.svm import LinearSVC\n",
    "from sklearn.feature_selection import SelectFromModel\n",
    "lsvc = LinearSVC(C=0.01, penalty=\"l1\", dual=False).fit(X, y)\n",
    "model = SelectFromModel(estimator=lsvc, prefit= True)\n",
    "X_new = model.transform(X)\n",
    "print(model.get_support())"
   ]
  },
  {
   "cell_type": "markdown",
   "id": "6aaa3466",
   "metadata": {
    "papermill": {
     "duration": 0.01225,
     "end_time": "2022-07-18T14:26:34.515560",
     "exception": false,
     "start_time": "2022-07-18T14:26:34.503310",
     "status": "completed"
    },
    "tags": []
   },
   "source": [
    "**6.2 Tree-Based**"
   ]
  },
  {
   "cell_type": "markdown",
   "id": "21e945d9",
   "metadata": {
    "papermill": {
     "duration": 0.012366,
     "end_time": "2022-07-18T14:26:34.540401",
     "exception": false,
     "start_time": "2022-07-18T14:26:34.528035",
     "status": "completed"
    },
    "tags": []
   },
   "source": [
    "- For classification, the measure of impurity is either the Gini impurity or the information gain/entropy. For regression the measure of impurity is variance. Therefore, when training a tree, it is possible to compute how much each feature decreases the impurity. The more a feature decreases the impurity, the more important the feature is. In random forests, the impurity decrease from each feature can be averaged across trees to determine the final importance of the variable.\n",
    "- To give a better intuition, features that are selected at the top of the trees are in general more important than features that are selected at the end nodes of the trees, as generally the top splits lead to bigger information gains."
   ]
  },
  {
   "cell_type": "markdown",
   "id": "cc40727c",
   "metadata": {
    "papermill": {
     "duration": 0.012249,
     "end_time": "2022-07-18T14:26:34.565702",
     "exception": false,
     "start_time": "2022-07-18T14:26:34.553453",
     "status": "completed"
    },
    "tags": []
   },
   "source": [
    "A good approach to estimate the best threshold:\n",
    "- start with a low threshold, for example: 1e-4\n",
    "- reduce your features using SelectFromModel fit & transform\n",
    "- compute metrics (accuracy, etc.) for your estimator (RandomForestClassifier in your case) for selected features\n",
    "- increase threshold and repeat all steps starting from point 1.\n",
    "Source: https://stackoverflow.com/questions/49345578/how-to-decide-threshold-value-in-selectfrommodel-for-selecting-features"
   ]
  },
  {
   "cell_type": "code",
   "execution_count": 20,
   "id": "add17849",
   "metadata": {
    "execution": {
     "iopub.execute_input": "2022-07-18T14:26:34.592222Z",
     "iopub.status.busy": "2022-07-18T14:26:34.591473Z",
     "iopub.status.idle": "2022-07-18T14:26:34.696186Z",
     "shell.execute_reply": "2022-07-18T14:26:34.695145Z"
    },
    "papermill": {
     "duration": 0.120174,
     "end_time": "2022-07-18T14:26:34.698392",
     "exception": false,
     "start_time": "2022-07-18T14:26:34.578218",
     "status": "completed"
    },
    "tags": []
   },
   "outputs": [
    {
     "name": "stdout",
     "output_type": "stream",
     "text": [
      "[0.09004865 0.01591824 0.41934095 0.47469216]\n",
      "[False False  True  True]\n"
     ]
    }
   ],
   "source": [
    "model_tree = RandomForestClassifier(random_state=100, n_estimators=50)\n",
    "model_tree.fit(X, y)\n",
    "print(model_tree.feature_importances_)\n",
    "sel_model_tree = SelectFromModel(estimator=model_tree, prefit=True, threshold='mean')  \n",
    "      # since we already fit the data, we specify prefit option here\n",
    "      # Features whose importance is greater or equal to the threshold are kept while the others are discarded.\n",
    "X_new = sel_model_tree.transform(X)\n",
    "print(sel_model_tree.get_support())"
   ]
  },
  {
   "cell_type": "markdown",
   "id": "07329012",
   "metadata": {
    "papermill": {
     "duration": 0.012357,
     "end_time": "2022-07-18T14:26:34.723665",
     "exception": false,
     "start_time": "2022-07-18T14:26:34.711308",
     "status": "completed"
    },
    "tags": []
   },
   "source": [
    "### 7. Exhaustive Feature Selection"
   ]
  },
  {
   "cell_type": "markdown",
   "id": "782ed0c6",
   "metadata": {
    "papermill": {
     "duration": 0.012378,
     "end_time": "2022-07-18T14:26:34.748584",
     "exception": false,
     "start_time": "2022-07-18T14:26:34.736206",
     "status": "completed"
    },
    "tags": []
   },
   "source": [
    "- In an exhaustive feature selection the best subset of features is selected, over all possible feature subsets, by optimizing a specified performance metric for a certain machine learning algorithm. For example, if the classifier is a logistic regression and the dataset consists of 4 features, the algorithm will evaluate all 15 feature combinations as follows:<br>\n",
    "all possible combinations of 1 feature<br>\n",
    "all possible combinations of 2 features<br>\n",
    "all possible combinations of 3 features<br>\n",
    "all the 4 features<br>\n",
    "and select the one that results in the best performance (e.g., classification accuracy) of the logistic regression classifier.\n",
    "- This is another greedy algorithm as it evaluates all possible feature combinations. It is quite computationally expensive, and sometimes, if feature space is big, even unfeasible.\n",
    "- It is not common in real-world applications. Therefore, we will  **NOT** implement it here"
   ]
  },
  {
   "cell_type": "markdown",
   "id": "5270e518",
   "metadata": {
    "papermill": {
     "duration": 0.012348,
     "end_time": "2022-07-18T14:26:34.773597",
     "exception": false,
     "start_time": "2022-07-18T14:26:34.761249",
     "status": "completed"
    },
    "tags": []
   },
   "source": [
    "**Final Notes:** <br>\n",
    "For a Machine Learning problem with a large number of columns, usually a good approach would be:\n",
    "1. Start with removing low variance columns using Variance Threshold Method.\n",
    "2. Then perform univariate analyses for each of the independent variables with respect to the target variable using some Statistical test (like chi-square etc.). Using this method, we can extract top k features (or features based on top nth percentile).\n",
    "3. Optional: If dataset is small, them we may perform some sequential feature selection method like RFE. However, this will be computationally expensive for larger datasets and hence may be avoided in such cases.\n",
    "3. Thereafter, we may implement multi-variate feature selection method so that we also account for the interaction between all features. SelectFromModel should be the final method in this approach."
   ]
  },
  {
   "cell_type": "markdown",
   "id": "672aade1",
   "metadata": {
    "papermill": {
     "duration": 0.012347,
     "end_time": "2022-07-18T14:26:34.798577",
     "exception": false,
     "start_time": "2022-07-18T14:26:34.786230",
     "status": "completed"
    },
    "tags": []
   },
   "source": [
    "References:\n",
    "- https://www.kaggle.com/code/prashant111/comprehensive-guide-on-feature-selection\n",
    "- https://scikit-learn.org/stable/modules/feature_selection.html\n"
   ]
  }
 ],
 "metadata": {
  "kernelspec": {
   "display_name": "Python 3",
   "language": "python",
   "name": "python3"
  },
  "language_info": {
   "codemirror_mode": {
    "name": "ipython",
    "version": 3
   },
   "file_extension": ".py",
   "mimetype": "text/x-python",
   "name": "python",
   "nbconvert_exporter": "python",
   "pygments_lexer": "ipython3",
   "version": "3.7.12"
  },
  "papermill": {
   "default_parameters": {},
   "duration": 1240.363628,
   "end_time": "2022-07-18T14:26:35.432378",
   "environment_variables": {},
   "exception": null,
   "input_path": "__notebook__.ipynb",
   "output_path": "__notebook__.ipynb",
   "parameters": {},
   "start_time": "2022-07-18T14:05:55.068750",
   "version": "2.3.4"
  }
 },
 "nbformat": 4,
 "nbformat_minor": 5
}
